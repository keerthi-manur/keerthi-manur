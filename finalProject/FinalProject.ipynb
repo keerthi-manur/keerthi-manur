{
 "cells": [
  {
   "cell_type": "markdown",
   "metadata": {},
   "source": [
    "# What Factors Impact the Cost of a Hotel Room?\n",
    "\n",
    "###### *By SreeKeerthi ManurSreekantaMurthyGari*\n",
    "\n",
    "### Constants: <br> \n",
    "##### Location (Orlando, Florida) <br > \n",
    "##### Number of Guests (2 adults, 2 children) <br > \n",
    "##### Duration of Stay (2 days, 1 night)\n"
   ]
  },
  {
   "cell_type": "code",
   "execution_count": 1,
   "metadata": {},
   "outputs": [],
   "source": [
    "import requests\n",
    "from bs4 import BeautifulSoup as bs\n",
    "import pandas as pd\n",
    "import json\n",
    "from collections import defaultdict\n",
    "import matplotlib.pyplot as plt"
   ]
  },
  {
   "cell_type": "code",
   "execution_count": null,
   "metadata": {},
   "outputs": [],
   "source": [
    "data1 = pd.read_json('CostJsonData.json')\n",
    "\n",
    "df1 = data1.head(n=50)\n",
    "\n",
    "df1.drop([\"groceryCost\", \"housingCost\", \"utilitiesCost\", \"transportationCost\", \"miscCost\"], axis=1, inplace=True)\n",
    "df1.rename(columns = {'state':'State'}, inplace = True)\n",
    "df1.rename(columns = {'costIndex':'Cost To Live Index'}, inplace = True)\n",
    "\n",
    "print(df1)"
   ]
  },
  {
   "cell_type": "code",
   "execution_count": null,
   "metadata": {},
   "outputs": [],
   "source": [
    "data2 = pd.read_json('UnemJsonData.json')\n",
    "\n",
    "df_2 = data2.head(n=50)\n",
    "\n",
    "df_2.drop([\"rate21\"], axis=1, inplace=True)\n",
    "df_2.rename(columns = {'state':'State Duplicate'}, inplace = True)\n",
    "df_2.rename(columns = {'rate22':'Unemployment Rate (2022)'}, inplace = True)\n",
    "\n",
    "df2 = df_2.reindex([31, 7, 10, 19, 17, 26, 9, 8, 36, 12, 24, 49, 42, 39, 40, 30, 33, 22, 1, 45, 21, 27, 20, 5, 3, 0, 13, 14, 6, 16, 11, 43, 23, 25, 46, 44, 2, 35, 18, 34, 4, 15, 32, 38, 48, 29, 28, 37, 47, 41])\n",
    "\n",
    "print(df2)"
   ]
  },
  {
   "cell_type": "code",
   "execution_count": 4,
   "metadata": {},
   "outputs": [
    {
     "name": "stdout",
     "output_type": "stream",
     "text": [
      "             State  Cost To Live Index  Unemployment Rate (2022)\n",
      "0      Mississippi                83.3                       1.8\n",
      "1           Kansas                86.5                       2.0\n",
      "2          Alabama                87.9                       2.0\n",
      "3         Oklahoma                87.9                       2.0\n",
      "4          Georgia                88.8                       2.1\n",
      "5        Tennessee                89.0                       2.3\n",
      "6         Missouri                89.8                       2.3\n",
      "7             Iowa                89.9                       2.4\n",
      "8    West Virginia                90.5                       2.5\n",
      "9          Indiana                90.6                       2.5\n",
      "10        Arkansas                90.9                       2.6\n",
      "11      New Mexico                91.0                       2.6\n",
      "12        Michigan                91.3                       2.6\n",
      "13            Ohio                91.3                       2.7\n",
      "14           Texas                92.1                       2.7\n",
      "15       Louisiana                93.0                       2.7\n",
      "16        Kentucky                93.1                       2.7\n",
      "17  South Carolina                93.6                       2.8\n",
      "18        Nebraska                93.7                       2.8\n",
      "19        Illinois                94.3                       3.0\n",
      "20         Wyoming                94.3                       3.0\n",
      "21  North Carolina                95.7                       3.0\n",
      "22       Wisconsin                96.4                       3.2\n",
      "23    North Dakota                98.2                       3.3\n",
      "24            Utah                99.0                       3.3\n",
      "25       Minnesota               100.0                       3.3\n",
      "26         Florida               100.3                       3.3\n",
      "27         Montana               100.7                       3.4\n",
      "28    South Dakota               101.0                       3.5\n",
      "29        Virginia               101.8                       3.5\n",
      "30           Idaho               102.1                       3.6\n",
      "31    Pennsylvania               102.5                       3.6\n",
      "32         Arizona               103.2                       3.7\n",
      "33        Colorado               105.3                       3.7\n",
      "34          Nevada               106.3                       3.7\n",
      "35        Delaware               107.9                       3.7\n",
      "36   New Hampshire               109.9                       3.7\n",
      "37      Washington               111.6                       3.9\n",
      "38           Maine               115.0                       3.9\n",
      "39      New Jersey               115.2                       3.9\n",
      "40         Vermont               117.0                       4.0\n",
      "41    Rhode Island               117.2                       4.1\n",
      "42     Connecticut               121.6                       4.2\n",
      "43        Maryland               124.0                       4.3\n",
      "44          Alaska               127.1                       4.4\n",
      "45          Oregon               130.1                       4.4\n",
      "46   Massachusetts               135.0                       4.4\n",
      "47      California               142.2                       4.4\n",
      "48        New York               148.2                       4.5\n",
      "49          Hawaii               193.3                       4.5\n"
     ]
    }
   ],
   "source": [
    "MergeJson = pd.concat([df1, df2], axis=1) \n",
    "MergeJson.drop([\"State Duplicate\"], axis=1, inplace=True)\n",
    "\n",
    "print(MergeJson)"
   ]
  }
 ],
 "metadata": {
  "kernelspec": {
   "display_name": "base",
   "language": "python",
   "name": "python3"
  },
  "language_info": {
   "codemirror_mode": {
    "name": "ipython",
    "version": 3
   },
   "file_extension": ".py",
   "mimetype": "text/x-python",
   "name": "python",
   "nbconvert_exporter": "python",
   "pygments_lexer": "ipython3",
   "version": "3.9.13"
  },
  "vscode": {
   "interpreter": {
    "hash": "aa9c192a08fa5b6ceea3c3777b03d7881efd450d780720500c5ac2ea92770bb6"
   }
  }
 },
 "nbformat": 4,
 "nbformat_minor": 2
}
