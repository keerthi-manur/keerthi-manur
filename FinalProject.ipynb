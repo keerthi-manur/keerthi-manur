{
 "cells": [
  {
   "cell_type": "markdown",
   "metadata": {},
   "source": [
    "# What Factors Impact the Cost of a Hotel Room?\n",
    "\n",
    "###### *By SreeKeerthi ManurSreekantaMurthyGari*\n",
    "\n",
    "### Constants: <br> \n",
    "##### Location (Orlando, Florida) <br > \n",
    "##### Number of Guests (2 adults, 2 children) <br > \n",
    "##### Duration of Stay (2 days, 1 night)\n"
   ]
  },
  {
   "cell_type": "code",
   "execution_count": 2,
   "metadata": {},
   "outputs": [],
   "source": [
    "import requests\n",
    "from bs4 import BeautifulSoup as bs\n",
    "import pandas as pd\n",
    "import csv\n",
    "from collections import defaultdict\n",
    "import matplotlib.pyplot as plt"
   ]
  },
  {
   "cell_type": "code",
   "execution_count": 3,
   "metadata": {},
   "outputs": [],
   "source": [
    "link = \"https://www.booking.com/searchresults.html?aid=304142&label=gen173nr-1FCAEoggI46AdIM1gEaIsCiAEBmAExuAEHyAEM2AEB6AEB-AECiAIBqAIDuAL_jtScBsACAdICJGY1NWU5MWZkLTA4MDItNDE5OC04MWU2LTliZDQ0MzlhNDAxNtgCBeACAQ&checkin=2023-02-15&checkout=2023-02-16&dest_id=20023488&dest_type=city&group_adults=2&req_adults=2&no_rooms=1&group_children=0&req_children=0\" \n",
    "\n",
    "headers = {'User-Agent': 'Mozilla/5.0 (Macintosh; Intel Mac OS X 10_15_4) AppleWebKit/537.36 (KHTML, like Gecko) Chrome/81.0.4044.113 Safari/537.36'}\n",
    "\n",
    "page = requests.get(link, headers = headers)\n",
    "soup = bs(page.content, 'lxml')"
   ]
  },
  {
   "cell_type": "code",
   "execution_count": 4,
   "metadata": {},
   "outputs": [],
   "source": [
    "def func(element):\n",
    "    return element.string\n",
    "\n",
    "data = defaultdict(list)"
   ]
  },
  {
   "cell_type": "code",
   "execution_count": 6,
   "metadata": {},
   "outputs": [],
   "source": [
    "for item in soup.select('.sr_property_block'):\n",
    "\ttry:\n",
    "\t\tprint('----------------------------------------')\n",
    "\t\tprint(item.select('.sr-hotel__name')[0].get_text().strip())\n",
    "\t\tprint(item.select('.hotel_name_link')[0]['href'])\n",
    "\t\tprint(item.select('.bui-review-score__badge')[0].get_text().strip())\n",
    "\t\tprint(item.select('.bui-review-score__text')[0].get_text().strip())\n",
    "\t\tprint(item.select('.bui-review-score__title')[0].get_text().strip())\n",
    "\t\tprint(item.select('.hotel_image')[0]['data-highres'])\n",
    " \n",
    "\t\tprint(item.select('.bui-price-display__value')[0].get_text().strip())\n",
    "\n",
    "\t\tprint('----------------------------------------')\n",
    "\texcept Exception as e:\n",
    "\t\t#raise e\n",
    "\t\tprint('')\n",
    "\n",
    "#data[\"hotel_names\"] = list(map(func, soup.select('h2 property-card')))\n",
    "    "
   ]
  }
 ],
 "metadata": {
  "kernelspec": {
   "display_name": "base",
   "language": "python",
   "name": "python3"
  },
  "language_info": {
   "codemirror_mode": {
    "name": "ipython",
    "version": 3
   },
   "file_extension": ".py",
   "mimetype": "text/x-python",
   "name": "python",
   "nbconvert_exporter": "python",
   "pygments_lexer": "ipython3",
   "version": "3.9.13"
  },
  "vscode": {
   "interpreter": {
    "hash": "aa9c192a08fa5b6ceea3c3777b03d7881efd450d780720500c5ac2ea92770bb6"
   }
  }
 },
 "nbformat": 4,
 "nbformat_minor": 2
}
